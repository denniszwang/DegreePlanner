{
  "nbformat": 4,
  "nbformat_minor": 0,
  "metadata": {
    "colab": {
      "provenance": []
    },
    "kernelspec": {
      "name": "python3",
      "display_name": "Python 3"
    },
    "language_info": {
      "name": "python"
    }
  },
  "cells": [
    {
      "cell_type": "code",
      "source": [
        "from google.colab import drive\n",
        "drive.mount('/content/drive')"
      ],
      "metadata": {
        "id": "Tk5St7Aun1Di",
        "colab": {
          "base_uri": "https://localhost:8080/"
        },
        "outputId": "e9af50e9-250f-4334-bc1f-5e24632239d2"
      },
      "execution_count": 1,
      "outputs": [
        {
          "output_type": "stream",
          "name": "stdout",
          "text": [
            "Mounted at /content/drive\n"
          ]
        }
      ]
    },
    {
      "cell_type": "code",
      "execution_count": 2,
      "metadata": {
        "id": "1Qp8J-efBX84"
      },
      "outputs": [],
      "source": [
        "import pandas as pd\n",
        "import numpy as np\n",
        "from scipy.spatial.distance import cdist\n",
        "from scipy.stats import rankdata\n",
        "from collections import Counter\n",
        "from copy import copy"
      ]
    },
    {
      "cell_type": "code",
      "source": [
        "#Read in excel file\n",
        "df = pd.read_excel('/content/drive/MyDrive/23MentorMenteeSheets.xlsx')\n",
        "df.columns = [\"time\", \"email\", \"name\", \"mentor_mentee\", \"project\", \"data\", \"UIUX\", \"PM\", \"entrepreneurship\", \"computer_graphics\", \"leetcode\", \"fun\"]"
      ],
      "metadata": {
        "id": "03ZYuKfSBijn"
      },
      "execution_count": 3,
      "outputs": []
    },
    {
      "cell_type": "code",
      "source": [
        "#Store the Name & Email\n",
        "name_email_map = pd.Series(df.email.values, index=df.name).to_dict()"
      ],
      "metadata": {
        "id": "xiQHKWxkiRXH"
      },
      "execution_count": 4,
      "outputs": []
    },
    {
      "cell_type": "code",
      "source": [
        "#Seperate the mentor and mentee\n",
        "df_mentor = df[df['mentor_mentee'] == 'Mentor']\n",
        "df_mentee = df[df['mentor_mentee'] == 'Mentee']"
      ],
      "metadata": {
        "id": "pMDK46rk3m1q"
      },
      "execution_count": 5,
      "outputs": []
    },
    {
      "cell_type": "code",
      "source": [
        "def findPairs(df_mentor, df_mentee):\n",
        "  placeholder_list = []\n",
        "  count = 0\n",
        "  mentor_columns = df_mentor.columns.tolist()\n",
        "  for x in range(len(df_mentee) - len(df_mentor)):\n",
        "    placeholder_list.append([\"N/A\", \"N/A\" ,\"Placeholder \" + str(count), \"Mentor\", 0, 0, 0, 0, 0, 0, 0, 0])\n",
        "    count += 1\n",
        "  df_placeholder = pd.DataFrame(placeholder_list, columns = mentor_columns)\n",
        "  df_mentor = pd.concat([df_mentor, df_placeholder])\n",
        "\n",
        "  mentor_names = df_mentor['name']\n",
        "  mentor_list = mentor_names.tolist()\n",
        "  np_mentor = df_mentor.drop(['time','email','name', 'mentor_mentee'], axis = 1).to_numpy()\n",
        "\n",
        "  mentee_names = df_mentee['name']\n",
        "  mentee_list = mentee_names.tolist()\n",
        "  np_mentee = df_mentee.drop(['time','email','name', 'mentor_mentee'], axis = 1).to_numpy()\n",
        "\n",
        "  #Calculate the preference matrix\n",
        "  preference_matrix= cdist(np_mentee,np_mentor, 'euclidean')\n",
        "\n",
        "  #Find the resulting matrix\n",
        "  final_preference = np.zeros([len(preference_matrix),len(preference_matrix[0])])\n",
        "\n",
        "  for x in range(len(preference_matrix)):\n",
        "    final_preference[x] = rankdata(preference_matrix[x], 'ordinal')\n",
        "\n",
        "\n",
        "  mentee_df = pd.DataFrame(final_preference, index = mentee_list, columns = mentor_list)\n",
        "  mentor_df = mentee_df\n",
        "\n",
        "  #Gale Shapely matching ALGORITHM\n",
        "  # dict to control which women each man can make proposals\n",
        "  mentor_available = {mentee:mentor_list for mentee in mentee_list}\n",
        "  # waiting list of men that were able to create pair on each iteration\n",
        "  waiting_list = []\n",
        "  # dict to store created pairs\n",
        "  proposals = {}\n",
        "  # variable to count number of iterations\n",
        "  count = 0\n",
        "\n",
        "  # while not all men have pairs\n",
        "  while len(waiting_list)<len(mentee_list):\n",
        "      # man makes proposals\n",
        "      for mentee in mentee_list:\n",
        "          if mentee not in waiting_list:\n",
        "              # each man make proposal to the top women from it's list\n",
        "              mentor = mentor_available[mentee]\n",
        "              best_choice = mentee_df.loc[mentee][mentee_df.loc[mentee].index.isin(mentor)].idxmin()\n",
        "              proposals[(mentee, best_choice)]=(mentee_df.loc[mentee][best_choice],\n",
        "                                                  mentor_df.loc[mentee][best_choice])\n",
        "      # if women have more than one proposals\n",
        "      # she will choose the best option\n",
        "      overlays = Counter([key[1] for key in proposals.keys()])\n",
        "      # cycle to choose the best options\n",
        "      for mentor in overlays.keys():\n",
        "          if overlays[mentor]>1:\n",
        "              # pairs to drop from proposals\n",
        "              pairs_to_drop = sorted({pair: proposals[pair] for pair in proposals.keys()\n",
        "                      if mentor in pair}.items(),\n",
        "                    key=lambda x: x[1][1]\n",
        "                    )[1:]\n",
        "              # if man was rejected by woman\n",
        "              # there is no pint for him to make proposal\n",
        "              # second time to the same woman\n",
        "              for p_to_drop in pairs_to_drop:\n",
        "                  del proposals[p_to_drop[0]]\n",
        "                  _mentor = copy(mentor_available[p_to_drop[0][0]])\n",
        "                  _mentor.remove(p_to_drop[0][1])\n",
        "                  mentor_available[p_to_drop[0][0]] = _mentor\n",
        "      # man who successfully created pairs must be added to the waiting list\n",
        "      waiting_list = [mentee[0] for mentee in proposals.keys()]\n",
        "      # update counter\n",
        "      count+=1\n",
        "\n",
        "  return proposals\n",
        "\n"
      ],
      "metadata": {
        "id": "giTecZk9nbI5"
      },
      "execution_count": 6,
      "outputs": []
    },
    {
      "cell_type": "code",
      "source": [
        "def findPairsMentees(df_mentor, df_mentee):\n",
        "  placeholder_list = []\n",
        "  count = 0\n",
        "  mentee_columns = df_mentee.columns.tolist()\n",
        "  for x in range(len(df_mentor) - len(df_mentee)):\n",
        "    placeholder_list.append([\"N/A\", \"N/A\" ,\"Placeholder \" + str(count), \"Mentee\", 0, 0, 0, 0, 0, 0, 0, 0])\n",
        "    count += 1\n",
        "  df_placeholder = pd.DataFrame(placeholder_list, columns = mentee_columns)\n",
        "  df_mentee = pd.concat([df_mentee, df_placeholder])\n",
        "\n",
        "  mentor_names = df_mentor['name']\n",
        "  mentor_list = mentor_names.tolist()\n",
        "  np_mentor = df_mentor.drop(['time','email','name', 'mentor_mentee'], axis = 1).to_numpy()\n",
        "\n",
        "  mentee_names = df_mentee['name']\n",
        "  mentee_list = mentee_names.tolist()\n",
        "  np_mentee = df_mentee.drop(['time','email','name', 'mentor_mentee'], axis = 1).to_numpy()\n",
        "  #Calculate the preference matrix\n",
        "  preference_matrix= cdist(np_mentee , np_mentor, 'euclidean')\n",
        "\n",
        "  #Find the resulting matrix\n",
        "  final_preference = np.zeros([len(preference_matrix),len(preference_matrix[0])])\n",
        "\n",
        "  for x in range(len(preference_matrix)):\n",
        "    final_preference[x] = rankdata(preference_matrix[x], 'ordinal')\n",
        "\n",
        "\n",
        "  mentee_df = pd.DataFrame(final_preference, index = mentee_list, columns = mentor_list)\n",
        "  mentor_df = mentee_df\n",
        "  #Gale Shapely matching ALGORITHM\n",
        "  # dict to control which women each man can make proposals\n",
        "  mentor_available = {mentee:mentor_list for mentee in mentee_list}\n",
        "  # waiting list of men that were able to create pair on each iteration\n",
        "  waiting_list = []\n",
        "  # dict to store created pairs\n",
        "  proposals = {}\n",
        "  # variable to count number of iterations\n",
        "  count = 0\n",
        "\n",
        "  # while not all men have pairs\n",
        "  while len(waiting_list)<len(mentee_list):\n",
        "      # man makes proposals\n",
        "      for mentee in mentee_list:\n",
        "          if mentee not in waiting_list:\n",
        "              # each man make proposal to the top women from it's list\n",
        "              mentor = mentor_available[mentee]\n",
        "              best_choice = mentee_df.loc[mentee][mentee_df.loc[mentee].index.isin(mentor)].idxmin()\n",
        "              proposals[(mentee, best_choice)]=(mentee_df.loc[mentee][best_choice],\n",
        "                                                  mentor_df.loc[mentee][best_choice])\n",
        "      # if women have more than one proposals\n",
        "      # she will choose the best option\n",
        "      overlays = Counter([key[1] for key in proposals.keys()])\n",
        "      # cycle to choose the best options\n",
        "      for mentor in overlays.keys():\n",
        "          if overlays[mentor]>1:\n",
        "              # pairs to drop from proposals\n",
        "              pairs_to_drop = sorted({pair: proposals[pair] for pair in proposals.keys()\n",
        "                      if mentor in pair}.items(),\n",
        "                    key=lambda x: x[1][1]\n",
        "                    )[1:]\n",
        "              # if man was rejected by woman\n",
        "              # there is no pint for him to make proposal\n",
        "              # second time to the same woman\n",
        "              for p_to_drop in pairs_to_drop:\n",
        "                  del proposals[p_to_drop[0]]\n",
        "                  _mentor = copy(mentor_available[p_to_drop[0][0]])\n",
        "                  _mentor.remove(p_to_drop[0][1])\n",
        "                  mentor_available[p_to_drop[0][0]] = _mentor\n",
        "      # man who successfully created pairs must be added to the waiting list\n",
        "      waiting_list = [mentee[0] for mentee in proposals.keys()]\n",
        "      # update counter\n",
        "      count+=1\n",
        "\n",
        "  return proposals"
      ],
      "metadata": {
        "id": "rh_M27NhHVDA"
      },
      "execution_count": 7,
      "outputs": []
    },
    {
      "cell_type": "code",
      "source": [
        "#df_mentor = df_mentor.sample(frac=1, random_state = 42)\n",
        "#df_mentee = df_mentee.sample(frac=1, random_state = 42)"
      ],
      "metadata": {
        "id": "CdNJLFIvpA7R"
      },
      "execution_count": null,
      "outputs": []
    },
    {
      "cell_type": "code",
      "source": [
        "result = {}\n",
        "count = 0\n",
        "while len(df_mentee) >= len(df_mentor):\n",
        "    iteration_result = findPairs(df_mentor, df_mentee)\n",
        "    mentee_list = []\n",
        "    for keys in iteration_result:\n",
        "        mentor_name = keys[1]\n",
        "        mentee_name = keys[0]\n",
        "        # Lookup emails\n",
        "        mentor_email = name_email_map.get(mentor_name, \"Email not found\")\n",
        "        mentee_email = name_email_map.get(mentee_name, \"Email not found\")\n",
        "\n",
        "        mentor_info = f\"{mentor_name} ({mentor_email})\"\n",
        "        mentee_info = f\"{mentee_name} ({mentee_email})\"\n",
        "\n",
        "        if 'Placeholder' not in mentor_name:\n",
        "            if mentor_info in result:\n",
        "                result[mentor_info].append(mentee_info)\n",
        "            else:\n",
        "                result[mentor_info] = [mentee_info]\n",
        "        else:\n",
        "            mentee_list.append(mentee_name)  # Keep using name for filtering in df_mentee\n",
        "    df_mentee = df_mentee[df_mentee['name'].isin(mentee_list)]\n",
        "    count += 1\n",
        "\n",
        "if len(df_mentee) > 0:\n",
        "    mentee_result = findPairsMentees(df_mentor, df_mentee)\n",
        "\n",
        "    for keys in mentee_result:\n",
        "        mentor_name = keys[1]\n",
        "        mentee_name = keys[0]\n",
        "        # Lookup emails\n",
        "        mentor_email = name_email_map.get(mentor_name, \"Email not found\")\n",
        "        mentee_email = name_email_map.get(mentee_name, \"Email not found\")\n",
        "\n",
        "        mentor_info = f\"{mentor_name} ({mentor_email})\"\n",
        "        mentee_info = f\"{mentee_name} ({mentee_email})\"\n",
        "\n",
        "        if 'Placeholder' not in mentor_name:\n",
        "            if mentor_info in result:\n",
        "                result[mentor_info].append(mentee_info)\n",
        "            else:\n",
        "                result[mentor_info] = [mentee_info]"
      ],
      "metadata": {
        "id": "dAy4CL8li0aE"
      },
      "execution_count": 8,
      "outputs": []
    },
    {
      "cell_type": "code",
      "source": [
        "result"
      ],
      "metadata": {
        "id": "QmeMY6y0Wx_S"
      },
      "execution_count": null,
      "outputs": []
    },
    {
      "cell_type": "code",
      "source": [
        "final = pd.DataFrame(result.items(), columns=['Mentors', 'Mentees'])\n",
        "final = final.explode('Mentees').reset_index(drop=True)\n",
        "\n",
        "last_mentor = None\n",
        "for index, row in final.iterrows():\n",
        "    current_mentor = row['Mentors']\n",
        "    if current_mentor == last_mentor:\n",
        "        final.at[index, 'Mentors'] = ''  # Clear the mentor name\n",
        "    else:\n",
        "        last_mentor = current_mentor\n",
        "\n",
        "final[['Mentor Name', 'Mentor Email']] = final['Mentors'].str.extract(r'(.*)\\s\\((.*)\\)', expand=True)\n",
        "final[['Mentee Name', 'Mentee Email']] = final['Mentees'].str.extract(r'(.*)\\s\\((.*)\\)', expand=True)\n",
        "final = final.drop(['Mentors', 'Mentees'], axis=1)\n",
        "final.fillna('', inplace=True)\n",
        "#final"
      ],
      "metadata": {
        "id": "onoZBPzxl2H_"
      },
      "execution_count": 9,
      "outputs": []
    },
    {
      "cell_type": "code",
      "source": [
        "final_exploded.to_excel(\"/content/drive/MyDrive/MentorMenteeResult.xlsx\")"
      ],
      "metadata": {
        "id": "UbF_NfEoZbla"
      },
      "execution_count": null,
      "outputs": []
    }
  ]
}